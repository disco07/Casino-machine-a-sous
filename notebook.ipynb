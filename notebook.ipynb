{
  "cells": [
    {
      "cell_type": "markdown",
      "metadata": {
        "id": "view-in-github",
        "colab_type": "text"
      },
      "source": [
        "<a href=\"https://colab.research.google.com/github/disco07/Casino-machine-a-sous/blob/main/notebook.ipynb\" target=\"_parent\"><img src=\"https://colab.research.google.com/assets/colab-badge.svg\" alt=\"Open In Colab\"/></a>"
      ]
    },
    {
      "metadata": {
        "dc": {
          "key": "4"
        },
        "deletable": false,
        "editable": false,
        "run_control": {
          "frozen": true
        },
        "tags": [
          "context"
        ],
        "id": "yCImqs2fX5Bt"
      },
      "cell_type": "markdown",
      "source": [
        "## 1. Loading data from CSV and Excel files\n",
        "<p>You just got hired as the first and only data practitioner at a small business experiencing exponential growth. The company needs more structured processes, guidelines, and standards. Your first mission is to structure the human resources data. The data is currently scattered across teams and files and comes in various formats: Excel files, CSVs, JSON files, SQL databases…</p>\n",
        "<p>The Head of People Operations wants to have a general view gathering all available information about a specific employee. Your job is to gather it all in a file that will serve as the reference moving forward. You will merge all of this data in a pandas DataFrame before exporting to CSV.</p>\n",
        "<p>Data management at your company is not the best, but you need to start somewhere. You decide to tackle the most straightforward tasks first, and to begin by loading the company office addresses. They are currently saved into a CSV file, <code>office_addresses.csv</code>, which the Office Manager sent over to you. Additionally, an HR manager you remember interviewing with gave you access to the Excel file, <code>employee_information.xlsx</code>, where the employee addresses are saved. You need to load these datasets in two separate DataFrames.</p>"
      ]
    },
    {
      "metadata": {
        "dc": {
          "key": "4"
        },
        "tags": [
          "sample_code"
        ],
        "trusted": false,
        "collapsed": true,
        "colab": {
          "base_uri": "https://localhost:8080/",
          "height": 400
        },
        "id": "GPRnixjDX5Bz",
        "outputId": "b2aa4bd6-2671-4fe5-d3cd-9f50fc321637"
      },
      "cell_type": "code",
      "source": [
        "# Import the library you need\n",
        "import pandas as pd\n",
        "\n",
        "# Load office_addresses.csv\n",
        "df_office_addresses = pd.read_csv('office_addresses.csv')\n",
        "\n",
        "# Load employee_information.xlsx\n",
        "df_employee_addresses = pd.read_excel('employee_information.xlsx', sheet_name = [0])[0]\n",
        "\n",
        "# Take a look at the first rows of the DataFrames\n",
        "print(df_office_addresses)\n",
        "print(df_employee_addresses)\n",
        "df_employee_addresses\n"
      ],
      "execution_count": 48,
      "outputs": [
        {
          "output_type": "stream",
          "name": "stdout",
          "text": [
            "          office office_country  ...   office_street office_street_number\n",
            "0  Leuven Office             BE  ...  Martelarenlaan                   38\n",
            "1     ESB Office             US  ...    Fifth Avenue                  350\n",
            "2  WeWork Office             GB  ...      Old Street                  207\n",
            "\n",
            "[3 rows x 5 columns]\n",
            "  employee_id employee_last_name  ...      employee_street employee_street_number\n",
            "0      A2R5H9             Hunman  ...          Grote Markt                      9\n",
            "1      H8K0L6               Siff  ...         Baker Street                    221\n",
            "2      G4R7V0              Sagal  ...         Perry Street                     66\n",
            "3      M1Z7U9             Coates  ...  Rue de l'Université                      7\n",
            "\n",
            "[4 rows x 7 columns]\n"
          ]
        },
        {
          "output_type": "execute_result",
          "data": {
            "text/html": [
              "<div>\n",
              "<style scoped>\n",
              "    .dataframe tbody tr th:only-of-type {\n",
              "        vertical-align: middle;\n",
              "    }\n",
              "\n",
              "    .dataframe tbody tr th {\n",
              "        vertical-align: top;\n",
              "    }\n",
              "\n",
              "    .dataframe thead th {\n",
              "        text-align: right;\n",
              "    }\n",
              "</style>\n",
              "<table border=\"1\" class=\"dataframe\">\n",
              "  <thead>\n",
              "    <tr style=\"text-align: right;\">\n",
              "      <th></th>\n",
              "      <th>employee_id</th>\n",
              "      <th>employee_last_name</th>\n",
              "      <th>employee_first_name</th>\n",
              "      <th>employee_country</th>\n",
              "      <th>employee_city</th>\n",
              "      <th>employee_street</th>\n",
              "      <th>employee_street_number</th>\n",
              "    </tr>\n",
              "  </thead>\n",
              "  <tbody>\n",
              "    <tr>\n",
              "      <th>0</th>\n",
              "      <td>A2R5H9</td>\n",
              "      <td>Hunman</td>\n",
              "      <td>Jax</td>\n",
              "      <td>BE</td>\n",
              "      <td>Leuven</td>\n",
              "      <td>Grote Markt</td>\n",
              "      <td>9</td>\n",
              "    </tr>\n",
              "    <tr>\n",
              "      <th>1</th>\n",
              "      <td>H8K0L6</td>\n",
              "      <td>Siff</td>\n",
              "      <td>Tara</td>\n",
              "      <td>GB</td>\n",
              "      <td>London</td>\n",
              "      <td>Baker Street</td>\n",
              "      <td>221</td>\n",
              "    </tr>\n",
              "    <tr>\n",
              "      <th>2</th>\n",
              "      <td>G4R7V0</td>\n",
              "      <td>Sagal</td>\n",
              "      <td>Gemma</td>\n",
              "      <td>US</td>\n",
              "      <td>New-York</td>\n",
              "      <td>Perry Street</td>\n",
              "      <td>66</td>\n",
              "    </tr>\n",
              "    <tr>\n",
              "      <th>3</th>\n",
              "      <td>M1Z7U9</td>\n",
              "      <td>Coates</td>\n",
              "      <td>Tig</td>\n",
              "      <td>FR</td>\n",
              "      <td>Paris</td>\n",
              "      <td>Rue de l'Université</td>\n",
              "      <td>7</td>\n",
              "    </tr>\n",
              "  </tbody>\n",
              "</table>\n",
              "</div>"
            ],
            "text/plain": [
              "  employee_id employee_last_name  ...      employee_street employee_street_number\n",
              "0      A2R5H9             Hunman  ...          Grote Markt                      9\n",
              "1      H8K0L6               Siff  ...         Baker Street                    221\n",
              "2      G4R7V0              Sagal  ...         Perry Street                     66\n",
              "3      M1Z7U9             Coates  ...  Rue de l'Université                      7\n",
              "\n",
              "[4 rows x 7 columns]"
            ]
          },
          "metadata": {},
          "execution_count": 48
        }
      ]
    },
    {
      "cell_type": "code",
      "source": [
        "df_office_addresses"
      ],
      "metadata": {
        "colab": {
          "base_uri": "https://localhost:8080/",
          "height": 143
        },
        "id": "XFrKV2Iz0F-H",
        "outputId": "5788cc98-825c-44da-f2fe-ec5f644328bf"
      },
      "execution_count": 49,
      "outputs": [
        {
          "output_type": "execute_result",
          "data": {
            "text/html": [
              "<div>\n",
              "<style scoped>\n",
              "    .dataframe tbody tr th:only-of-type {\n",
              "        vertical-align: middle;\n",
              "    }\n",
              "\n",
              "    .dataframe tbody tr th {\n",
              "        vertical-align: top;\n",
              "    }\n",
              "\n",
              "    .dataframe thead th {\n",
              "        text-align: right;\n",
              "    }\n",
              "</style>\n",
              "<table border=\"1\" class=\"dataframe\">\n",
              "  <thead>\n",
              "    <tr style=\"text-align: right;\">\n",
              "      <th></th>\n",
              "      <th>office</th>\n",
              "      <th>office_country</th>\n",
              "      <th>office_city</th>\n",
              "      <th>office_street</th>\n",
              "      <th>office_street_number</th>\n",
              "    </tr>\n",
              "  </thead>\n",
              "  <tbody>\n",
              "    <tr>\n",
              "      <th>0</th>\n",
              "      <td>Leuven Office</td>\n",
              "      <td>BE</td>\n",
              "      <td>Leuven</td>\n",
              "      <td>Martelarenlaan</td>\n",
              "      <td>38</td>\n",
              "    </tr>\n",
              "    <tr>\n",
              "      <th>1</th>\n",
              "      <td>ESB Office</td>\n",
              "      <td>US</td>\n",
              "      <td>New York City</td>\n",
              "      <td>Fifth Avenue</td>\n",
              "      <td>350</td>\n",
              "    </tr>\n",
              "    <tr>\n",
              "      <th>2</th>\n",
              "      <td>WeWork Office</td>\n",
              "      <td>GB</td>\n",
              "      <td>London</td>\n",
              "      <td>Old Street</td>\n",
              "      <td>207</td>\n",
              "    </tr>\n",
              "  </tbody>\n",
              "</table>\n",
              "</div>"
            ],
            "text/plain": [
              "          office office_country  ...   office_street office_street_number\n",
              "0  Leuven Office             BE  ...  Martelarenlaan                   38\n",
              "1     ESB Office             US  ...    Fifth Avenue                  350\n",
              "2  WeWork Office             GB  ...      Old Street                  207\n",
              "\n",
              "[3 rows x 5 columns]"
            ]
          },
          "metadata": {},
          "execution_count": 49
        }
      ]
    },
    {
      "metadata": {
        "dc": {
          "key": "12"
        },
        "deletable": false,
        "editable": false,
        "run_control": {
          "frozen": true
        },
        "tags": [
          "context"
        ],
        "id": "dql6SGryX5B1"
      },
      "cell_type": "markdown",
      "source": [
        "## 2. Loading employee data from Excel sheets\n",
        "<p>It turns out the <code>employee_information.xlsx</code> file also holds information about emergency contacts for each employee in a second sheet titled <code>emergency_contacts</code>. However, this sheet was edited at some point, and the header was removed! Looking at the data, you were able to figure out what the header should be, and you confirmed that they were appropriate with the HR manager: <code>employee_id</code>, <code>last_name</code>, <code>first_name</code>, <code>emergency_contact</code>, <code>emergency_contact_number</code>, <code>relationship</code>.</p>"
      ]
    },
    {
      "metadata": {
        "dc": {
          "key": "12"
        },
        "tags": [
          "sample_code"
        ],
        "trusted": false,
        "collapsed": true,
        "colab": {
          "base_uri": "https://localhost:8080/",
          "height": 143
        },
        "id": "Cu4LKIu1X5B2",
        "outputId": "3ca8623d-f072-4504-874c-36397e68ce56"
      },
      "cell_type": "code",
      "source": [
        "# Load data from the second sheet of employee_information.xlsx\n",
        "df_emergency_contacts = pd.read_excel('employee_information.xlsx', sheet_name = [1])[1]\n",
        "\n",
        "# Declare a list of new column names\n",
        "emergency_contacts_header = [\"employee_id\", \"last_name\", \"first_name\", \"emergency_contact\", \"emergency_contact_number\", \"relationship\"]\n",
        "\n",
        "# Rename the columns\n",
        "df_emergency_contacts.columns = emergency_contacts_header\n",
        "\n",
        "df_emergency_contacts"
      ],
      "execution_count": 20,
      "outputs": [
        {
          "output_type": "execute_result",
          "data": {
            "text/html": [
              "<div>\n",
              "<style scoped>\n",
              "    .dataframe tbody tr th:only-of-type {\n",
              "        vertical-align: middle;\n",
              "    }\n",
              "\n",
              "    .dataframe tbody tr th {\n",
              "        vertical-align: top;\n",
              "    }\n",
              "\n",
              "    .dataframe thead th {\n",
              "        text-align: right;\n",
              "    }\n",
              "</style>\n",
              "<table border=\"1\" class=\"dataframe\">\n",
              "  <thead>\n",
              "    <tr style=\"text-align: right;\">\n",
              "      <th></th>\n",
              "      <th>employee_id</th>\n",
              "      <th>last_name</th>\n",
              "      <th>first_name</th>\n",
              "      <th>emergency_contact</th>\n",
              "      <th>emergency_contact_number</th>\n",
              "      <th>relationship</th>\n",
              "    </tr>\n",
              "  </thead>\n",
              "  <tbody>\n",
              "    <tr>\n",
              "      <th>0</th>\n",
              "      <td>H8K0L6</td>\n",
              "      <td>Siff</td>\n",
              "      <td>Tara</td>\n",
              "      <td>Wendy de Matteo</td>\n",
              "      <td>+44-020-5554-333</td>\n",
              "      <td>Sister</td>\n",
              "    </tr>\n",
              "    <tr>\n",
              "      <th>1</th>\n",
              "      <td>G4R7V0</td>\n",
              "      <td>Sagal</td>\n",
              "      <td>Gemma</td>\n",
              "      <td>John Newmark</td>\n",
              "      <td>+1-202-555-194</td>\n",
              "      <td>Husband</td>\n",
              "    </tr>\n",
              "    <tr>\n",
              "      <th>2</th>\n",
              "      <td>M1Z7U9</td>\n",
              "      <td>Coates</td>\n",
              "      <td>Tig</td>\n",
              "      <td>Venus Noone</td>\n",
              "      <td>+1-202-555-0130</td>\n",
              "      <td>Wife</td>\n",
              "    </tr>\n",
              "  </tbody>\n",
              "</table>\n",
              "</div>"
            ],
            "text/plain": [
              "  employee_id last_name  ... emergency_contact_number relationship\n",
              "0      H8K0L6      Siff  ...         +44-020-5554-333       Sister\n",
              "1      G4R7V0     Sagal  ...           +1-202-555-194      Husband\n",
              "2      M1Z7U9    Coates  ...          +1-202-555-0130         Wife\n",
              "\n",
              "[3 rows x 6 columns]"
            ]
          },
          "metadata": {},
          "execution_count": 20
        }
      ]
    },
    {
      "metadata": {
        "dc": {
          "key": "19"
        },
        "deletable": false,
        "editable": false,
        "run_control": {
          "frozen": true
        },
        "tags": [
          "context"
        ],
        "id": "dQ0oWQD6X5B2"
      },
      "cell_type": "markdown",
      "source": [
        "## 3. Loading role data from JSON files\n",
        "<p>All right, you're making good progress! Now the next step is to gather information about employee roles, teams, and salaries. This information usually lives in a human resources management system, but the Head of People Operations exported the data for you into a JSON file titled <code>employee_roles.json</code>.</p>\n",
        "<p>Looking at the JSON file, you see entries are structured in a specific way. It is built as a Python dictionary: the keys are employee IDs, and each employee ID has a corresponding dictionary value holding role, salary, and team information. Here are the first few lines of the file:</p>\n",
        "<pre><code>{\"A2R5H9\":\n",
        "  {\n",
        "    \"title\": \"CEO\",\n",
        "    \"monthly_salary\": \"$4500\",\n",
        "    \"team\": \"Leadership\"\n",
        "  },\n",
        " ...\n",
        "}\n",
        "</code></pre>\n",
        "<p>Load the JSON file to a variable <code>df_employee_roles</code>, choosing the appropriate orientation.</p>"
      ]
    },
    {
      "metadata": {
        "dc": {
          "key": "19"
        },
        "tags": [
          "sample_code"
        ],
        "trusted": false,
        "collapsed": true,
        "colab": {
          "base_uri": "https://localhost:8080/",
          "height": 143
        },
        "id": "sE55i7cuX5B3",
        "outputId": "a1039e16-9a82-4ee0-8496-011f0e8d63ec"
      },
      "cell_type": "code",
      "source": [
        "# Load employee_roles.json\n",
        "df_employee_roles = pd.read_json(\"employee_roles.json\")\n",
        "df_employee_roles = df_employee_roles.reindex(sorted(df_employee_roles.columns), axis=1)\n",
        "\n",
        "# Take a look at the first rows of the DataFrame\n",
        "df_employee_roles.head()"
      ],
      "execution_count": 36,
      "outputs": [
        {
          "output_type": "execute_result",
          "data": {
            "text/html": [
              "<div>\n",
              "<style scoped>\n",
              "    .dataframe tbody tr th:only-of-type {\n",
              "        vertical-align: middle;\n",
              "    }\n",
              "\n",
              "    .dataframe tbody tr th {\n",
              "        vertical-align: top;\n",
              "    }\n",
              "\n",
              "    .dataframe thead th {\n",
              "        text-align: right;\n",
              "    }\n",
              "</style>\n",
              "<table border=\"1\" class=\"dataframe\">\n",
              "  <thead>\n",
              "    <tr style=\"text-align: right;\">\n",
              "      <th></th>\n",
              "      <th>A2R5H9</th>\n",
              "      <th>G4R7V0</th>\n",
              "      <th>H8K0L6</th>\n",
              "      <th>M1Z7U9</th>\n",
              "    </tr>\n",
              "  </thead>\n",
              "  <tbody>\n",
              "    <tr>\n",
              "      <th>title</th>\n",
              "      <td>CEO</td>\n",
              "      <td>Business Developer</td>\n",
              "      <td>CFO</td>\n",
              "      <td>Office Manager</td>\n",
              "    </tr>\n",
              "    <tr>\n",
              "      <th>monthly_salary</th>\n",
              "      <td>$4500</td>\n",
              "      <td>$3000</td>\n",
              "      <td>$4500</td>\n",
              "      <td>$2000</td>\n",
              "    </tr>\n",
              "    <tr>\n",
              "      <th>team</th>\n",
              "      <td>Leadership</td>\n",
              "      <td>Sales</td>\n",
              "      <td>Leadership</td>\n",
              "      <td>People Operations</td>\n",
              "    </tr>\n",
              "  </tbody>\n",
              "</table>\n",
              "</div>"
            ],
            "text/plain": [
              "                    A2R5H9              G4R7V0      H8K0L6             M1Z7U9\n",
              "title                  CEO  Business Developer         CFO     Office Manager\n",
              "monthly_salary       $4500               $3000       $4500              $2000\n",
              "team            Leadership               Sales  Leadership  People Operations"
            ]
          },
          "metadata": {},
          "execution_count": 36
        }
      ]
    },
    {
      "metadata": {
        "dc": {
          "key": "26"
        },
        "deletable": false,
        "editable": false,
        "run_control": {
          "frozen": true
        },
        "tags": [
          "context"
        ],
        "id": "n_4ybP-iX5B4"
      },
      "cell_type": "markdown",
      "source": [
        "## 4. Merging several DataFrames into one\n",
        "<p>You now have all the data required! All that's left is bringing it all in a unique DataFrame. This unique DataFrame will enable the Head of People Operations to access all employee data at once.</p>\n",
        "<p>In this step, you will merge all DataFrames. In the next step, you will remove duplicates and reorganize the columns - don't worry about this for now.</p>"
      ]
    },
    {
      "metadata": {
        "dc": {
          "key": "26"
        },
        "tags": [
          "sample_code"
        ],
        "trusted": false,
        "collapsed": true,
        "colab": {
          "base_uri": "https://localhost:8080/",
          "height": 282
        },
        "id": "TH0ZdV5zX5B4",
        "outputId": "ee5ac5ba-3830-40c1-a930-6a9abab72078"
      },
      "cell_type": "code",
      "source": [
        "# Merge df_employee_addresses with df_emergency_contacts\n",
        "df_employees = df_employee_addresses.merge(df_emergency_contacts, how=\"left\", on=\"employee_id\", copy=False)\n",
        "\n",
        "# Merge df_employees with df_employee_roles\n",
        "df_employees = df_employees.merge(df_employee_roles.T.reset_index(), how=\"left\", left_on=\"employee_id\", right_on=\"index\", copy=False)\n",
        "\n",
        "# Merge df_employees with df_office_adresses\n",
        "df_employees = df_employees.merge(df_office_addresses, how=\"left\", left_on=\"employee_city\", right_on=\"office_city\", copy=False)\n",
        "\n",
        "# Take a look at the first rows of the DataFrame and its columns\n",
        "# print(df_employees)\n",
        "print(...)\n",
        "df_employees"
      ],
      "execution_count": 50,
      "outputs": [
        {
          "output_type": "stream",
          "name": "stdout",
          "text": [
            "Ellipsis\n"
          ]
        },
        {
          "output_type": "execute_result",
          "data": {
            "text/html": [
              "<div>\n",
              "<style scoped>\n",
              "    .dataframe tbody tr th:only-of-type {\n",
              "        vertical-align: middle;\n",
              "    }\n",
              "\n",
              "    .dataframe tbody tr th {\n",
              "        vertical-align: top;\n",
              "    }\n",
              "\n",
              "    .dataframe thead th {\n",
              "        text-align: right;\n",
              "    }\n",
              "</style>\n",
              "<table border=\"1\" class=\"dataframe\">\n",
              "  <thead>\n",
              "    <tr style=\"text-align: right;\">\n",
              "      <th></th>\n",
              "      <th>employee_id</th>\n",
              "      <th>employee_last_name</th>\n",
              "      <th>employee_first_name</th>\n",
              "      <th>employee_country</th>\n",
              "      <th>employee_city</th>\n",
              "      <th>employee_street</th>\n",
              "      <th>employee_street_number</th>\n",
              "      <th>last_name</th>\n",
              "      <th>first_name</th>\n",
              "      <th>emergency_contact</th>\n",
              "      <th>emergency_contact_number</th>\n",
              "      <th>relationship</th>\n",
              "      <th>index</th>\n",
              "      <th>title</th>\n",
              "      <th>monthly_salary</th>\n",
              "      <th>team</th>\n",
              "      <th>office</th>\n",
              "      <th>office_country</th>\n",
              "      <th>office_city</th>\n",
              "      <th>office_street</th>\n",
              "      <th>office_street_number</th>\n",
              "    </tr>\n",
              "  </thead>\n",
              "  <tbody>\n",
              "    <tr>\n",
              "      <th>0</th>\n",
              "      <td>A2R5H9</td>\n",
              "      <td>Hunman</td>\n",
              "      <td>Jax</td>\n",
              "      <td>BE</td>\n",
              "      <td>Leuven</td>\n",
              "      <td>Grote Markt</td>\n",
              "      <td>9</td>\n",
              "      <td>NaN</td>\n",
              "      <td>NaN</td>\n",
              "      <td>NaN</td>\n",
              "      <td>NaN</td>\n",
              "      <td>NaN</td>\n",
              "      <td>A2R5H9</td>\n",
              "      <td>CEO</td>\n",
              "      <td>$4500</td>\n",
              "      <td>Leadership</td>\n",
              "      <td>Leuven Office</td>\n",
              "      <td>BE</td>\n",
              "      <td>Leuven</td>\n",
              "      <td>Martelarenlaan</td>\n",
              "      <td>38.0</td>\n",
              "    </tr>\n",
              "    <tr>\n",
              "      <th>1</th>\n",
              "      <td>H8K0L6</td>\n",
              "      <td>Siff</td>\n",
              "      <td>Tara</td>\n",
              "      <td>GB</td>\n",
              "      <td>London</td>\n",
              "      <td>Baker Street</td>\n",
              "      <td>221</td>\n",
              "      <td>Siff</td>\n",
              "      <td>Tara</td>\n",
              "      <td>Wendy de Matteo</td>\n",
              "      <td>+44-020-5554-333</td>\n",
              "      <td>Sister</td>\n",
              "      <td>H8K0L6</td>\n",
              "      <td>CFO</td>\n",
              "      <td>$4500</td>\n",
              "      <td>Leadership</td>\n",
              "      <td>WeWork Office</td>\n",
              "      <td>GB</td>\n",
              "      <td>London</td>\n",
              "      <td>Old Street</td>\n",
              "      <td>207.0</td>\n",
              "    </tr>\n",
              "    <tr>\n",
              "      <th>2</th>\n",
              "      <td>G4R7V0</td>\n",
              "      <td>Sagal</td>\n",
              "      <td>Gemma</td>\n",
              "      <td>US</td>\n",
              "      <td>New-York</td>\n",
              "      <td>Perry Street</td>\n",
              "      <td>66</td>\n",
              "      <td>Sagal</td>\n",
              "      <td>Gemma</td>\n",
              "      <td>John Newmark</td>\n",
              "      <td>+1-202-555-194</td>\n",
              "      <td>Husband</td>\n",
              "      <td>G4R7V0</td>\n",
              "      <td>Business Developer</td>\n",
              "      <td>$3000</td>\n",
              "      <td>Sales</td>\n",
              "      <td>NaN</td>\n",
              "      <td>NaN</td>\n",
              "      <td>NaN</td>\n",
              "      <td>NaN</td>\n",
              "      <td>NaN</td>\n",
              "    </tr>\n",
              "    <tr>\n",
              "      <th>3</th>\n",
              "      <td>M1Z7U9</td>\n",
              "      <td>Coates</td>\n",
              "      <td>Tig</td>\n",
              "      <td>FR</td>\n",
              "      <td>Paris</td>\n",
              "      <td>Rue de l'Université</td>\n",
              "      <td>7</td>\n",
              "      <td>Coates</td>\n",
              "      <td>Tig</td>\n",
              "      <td>Venus Noone</td>\n",
              "      <td>+1-202-555-0130</td>\n",
              "      <td>Wife</td>\n",
              "      <td>M1Z7U9</td>\n",
              "      <td>Office Manager</td>\n",
              "      <td>$2000</td>\n",
              "      <td>People Operations</td>\n",
              "      <td>NaN</td>\n",
              "      <td>NaN</td>\n",
              "      <td>NaN</td>\n",
              "      <td>NaN</td>\n",
              "      <td>NaN</td>\n",
              "    </tr>\n",
              "  </tbody>\n",
              "</table>\n",
              "</div>"
            ],
            "text/plain": [
              "  employee_id employee_last_name  ...   office_street office_street_number\n",
              "0      A2R5H9             Hunman  ...  Martelarenlaan                 38.0\n",
              "1      H8K0L6               Siff  ...      Old Street                207.0\n",
              "2      G4R7V0              Sagal  ...             NaN                  NaN\n",
              "3      M1Z7U9             Coates  ...             NaN                  NaN\n",
              "\n",
              "[4 rows x 21 columns]"
            ]
          },
          "metadata": {},
          "execution_count": 50
        }
      ]
    },
    {
      "metadata": {
        "dc": {
          "key": "33"
        },
        "deletable": false,
        "editable": false,
        "run_control": {
          "frozen": true
        },
        "tags": [
          "context"
        ],
        "id": "0Y-eVKc6X5B5"
      },
      "cell_type": "markdown",
      "source": [
        "## 5. Editing column names\n",
        "<p>Now that you merged all of your DataFrames into one let's make sure you have the information required by People Ops.</p>\n",
        "<p>Currently, your <code>df_employees</code> DataFrame has the following column titles:\n",
        "<code>employee_id</code>, <code>employee_last_name</code>, <code>employee_first_name</code>, <code>employee_country</code>, <code>employee_city</code>, <code>employee_street</code>, <code>employee_street_number</code>, <code>last_name</code>, <code>first_name</code>, <code>emergency_contact</code>, <code>emergency_contact_number</code>, <code>relationship</code>, <code>monthly_salary</code>, <code>team</code>, <code>title</code>,  <code>office</code>, <code>office_country</code>, <code>office_city</code>, <code>office_street</code>, <code>office_street_number</code>.</p>\n",
        "<p>The columns <code>employee_last_name</code> and <code>last_name</code> are duplicates. The columns <code>employee_first_name</code> and <code>first_name</code> are duplicates as well. On top of this, People Ops wants to rename some of the columns:</p>\n",
        "<ul>\n",
        "<li><code>employee_id</code> should be <code>id</code></li>\n",
        "<li><code>employee_country</code> should be <code>country</code></li>\n",
        "<li><code>employee_city</code> should be <code>city</code></li>\n",
        "<li><code>employee_street</code> should be <code>street</code></li>\n",
        "<li><code>employee_street_number</code> should be <code>street_number</code></li>\n",
        "<li><code>emergency_contact_number</code> should be <code>emergency_number</code></li>\n",
        "<li><code>relationship</code> should be <code>emergency_relationship</code></li>\n",
        "</ul>\n",
        "<p><strong>So your header should look like this in the end:</strong>\n",
        "<code>id</code>, <code>country</code>, <code>city</code>, <code>street</code>, <code>street_number</code>, <code>last_name</code>, <code>first_name</code>, <code>emergency_contact</code>, <code>emergency_number</code>, <code>emergency_relationship</code>, <code>monthly_salary</code>, <code>team</code>, <code>title</code>, <code>office</code>, <code>office_country</code>, <code>office_city</code>, <code>office_street</code>, <code>office_street_number</code>.</p>"
      ]
    },
    {
      "metadata": {
        "dc": {
          "key": "33"
        },
        "tags": [
          "sample_code"
        ],
        "trusted": false,
        "collapsed": true,
        "colab": {
          "base_uri": "https://localhost:8080/",
          "height": 264
        },
        "id": "JXMj11VEX5B5",
        "outputId": "ded8d0dd-473f-447c-b50c-817bc95114cf"
      },
      "cell_type": "code",
      "source": [
        "# Drop the columns\n",
        "df_employees_renamed = df_employees.drop(columns=['last_name', 'first_name'])\n",
        "\n",
        "# New columns names\n",
        "new_column_names = {\"employee_id\": \"id\",\n",
        "                    \"employee_country\": \"country\",\n",
        "                    \"employee_city\": \"city\",\n",
        "                    \"employee_street\": \"street\",\n",
        "                    \"employee_street_number\": \"street_number\",\n",
        "                    \"relationship\": \"emergency_relationship\",\n",
        "                    \"emergency_contact_number\": \"emergency_number\"}\n",
        "\n",
        "# Rename the columns\n",
        "df_employees_renamed = df_employees_renamed.rename(columns=new_column_names)\n",
        "\n",
        "# Take a look at the first rows of the DataFrame\n",
        "df_employees_renamed.head(4)"
      ],
      "execution_count": 57,
      "outputs": [
        {
          "output_type": "execute_result",
          "data": {
            "text/html": [
              "<div>\n",
              "<style scoped>\n",
              "    .dataframe tbody tr th:only-of-type {\n",
              "        vertical-align: middle;\n",
              "    }\n",
              "\n",
              "    .dataframe tbody tr th {\n",
              "        vertical-align: top;\n",
              "    }\n",
              "\n",
              "    .dataframe thead th {\n",
              "        text-align: right;\n",
              "    }\n",
              "</style>\n",
              "<table border=\"1\" class=\"dataframe\">\n",
              "  <thead>\n",
              "    <tr style=\"text-align: right;\">\n",
              "      <th></th>\n",
              "      <th>id</th>\n",
              "      <th>employee_last_name</th>\n",
              "      <th>employee_first_name</th>\n",
              "      <th>country</th>\n",
              "      <th>city</th>\n",
              "      <th>street</th>\n",
              "      <th>street_number</th>\n",
              "      <th>emergency_contact</th>\n",
              "      <th>emergency_number</th>\n",
              "      <th>emergency_relationship</th>\n",
              "      <th>index</th>\n",
              "      <th>title</th>\n",
              "      <th>monthly_salary</th>\n",
              "      <th>team</th>\n",
              "      <th>office</th>\n",
              "      <th>office_country</th>\n",
              "      <th>office_city</th>\n",
              "      <th>office_street</th>\n",
              "      <th>office_street_number</th>\n",
              "    </tr>\n",
              "  </thead>\n",
              "  <tbody>\n",
              "    <tr>\n",
              "      <th>0</th>\n",
              "      <td>A2R5H9</td>\n",
              "      <td>Hunman</td>\n",
              "      <td>Jax</td>\n",
              "      <td>BE</td>\n",
              "      <td>Leuven</td>\n",
              "      <td>Grote Markt</td>\n",
              "      <td>9</td>\n",
              "      <td>NaN</td>\n",
              "      <td>NaN</td>\n",
              "      <td>NaN</td>\n",
              "      <td>A2R5H9</td>\n",
              "      <td>CEO</td>\n",
              "      <td>$4500</td>\n",
              "      <td>Leadership</td>\n",
              "      <td>Leuven Office</td>\n",
              "      <td>BE</td>\n",
              "      <td>Leuven</td>\n",
              "      <td>Martelarenlaan</td>\n",
              "      <td>38.0</td>\n",
              "    </tr>\n",
              "    <tr>\n",
              "      <th>1</th>\n",
              "      <td>H8K0L6</td>\n",
              "      <td>Siff</td>\n",
              "      <td>Tara</td>\n",
              "      <td>GB</td>\n",
              "      <td>London</td>\n",
              "      <td>Baker Street</td>\n",
              "      <td>221</td>\n",
              "      <td>Wendy de Matteo</td>\n",
              "      <td>+44-020-5554-333</td>\n",
              "      <td>Sister</td>\n",
              "      <td>H8K0L6</td>\n",
              "      <td>CFO</td>\n",
              "      <td>$4500</td>\n",
              "      <td>Leadership</td>\n",
              "      <td>WeWork Office</td>\n",
              "      <td>GB</td>\n",
              "      <td>London</td>\n",
              "      <td>Old Street</td>\n",
              "      <td>207.0</td>\n",
              "    </tr>\n",
              "    <tr>\n",
              "      <th>2</th>\n",
              "      <td>G4R7V0</td>\n",
              "      <td>Sagal</td>\n",
              "      <td>Gemma</td>\n",
              "      <td>US</td>\n",
              "      <td>New-York</td>\n",
              "      <td>Perry Street</td>\n",
              "      <td>66</td>\n",
              "      <td>John Newmark</td>\n",
              "      <td>+1-202-555-194</td>\n",
              "      <td>Husband</td>\n",
              "      <td>G4R7V0</td>\n",
              "      <td>Business Developer</td>\n",
              "      <td>$3000</td>\n",
              "      <td>Sales</td>\n",
              "      <td>NaN</td>\n",
              "      <td>NaN</td>\n",
              "      <td>NaN</td>\n",
              "      <td>NaN</td>\n",
              "      <td>NaN</td>\n",
              "    </tr>\n",
              "    <tr>\n",
              "      <th>3</th>\n",
              "      <td>M1Z7U9</td>\n",
              "      <td>Coates</td>\n",
              "      <td>Tig</td>\n",
              "      <td>FR</td>\n",
              "      <td>Paris</td>\n",
              "      <td>Rue de l'Université</td>\n",
              "      <td>7</td>\n",
              "      <td>Venus Noone</td>\n",
              "      <td>+1-202-555-0130</td>\n",
              "      <td>Wife</td>\n",
              "      <td>M1Z7U9</td>\n",
              "      <td>Office Manager</td>\n",
              "      <td>$2000</td>\n",
              "      <td>People Operations</td>\n",
              "      <td>NaN</td>\n",
              "      <td>NaN</td>\n",
              "      <td>NaN</td>\n",
              "      <td>NaN</td>\n",
              "      <td>NaN</td>\n",
              "    </tr>\n",
              "  </tbody>\n",
              "</table>\n",
              "</div>"
            ],
            "text/plain": [
              "       id employee_last_name  ...   office_street office_street_number\n",
              "0  A2R5H9             Hunman  ...  Martelarenlaan                 38.0\n",
              "1  H8K0L6               Siff  ...      Old Street                207.0\n",
              "2  G4R7V0              Sagal  ...             NaN                  NaN\n",
              "3  M1Z7U9             Coates  ...             NaN                  NaN\n",
              "\n",
              "[4 rows x 19 columns]"
            ]
          },
          "metadata": {},
          "execution_count": 57
        }
      ]
    },
    {
      "metadata": {
        "dc": {
          "key": "40"
        },
        "deletable": false,
        "editable": false,
        "run_control": {
          "frozen": true
        },
        "tags": [
          "context"
        ],
        "id": "KIHMkcsuX5B6"
      },
      "cell_type": "markdown",
      "source": [
        "## 6. Changing column order\n",
        "<p>Now that you have the appropriate column names, you can reorder the columns.</p>"
      ]
    },
    {
      "metadata": {
        "dc": {
          "key": "40"
        },
        "tags": [
          "sample_code"
        ],
        "trusted": false,
        "collapsed": true,
        "colab": {
          "base_uri": "https://localhost:8080/",
          "height": 264
        },
        "id": "nk-rsnMaX5B6",
        "outputId": "cdd3591c-1376-4d03-b607-08521c86bfc7"
      },
      "cell_type": "code",
      "source": [
        "# Declare a list for the new column's order and reorder columns\n",
        "new_column_order = [\"id\", \"employee_last_name\", \"employee_first_name\", \"title\", \"team\", \"monthly_salary\", \n",
        "                    \"country\", \"city\", \"street\", \"street_number\",\n",
        "                    \"emergency_contact\", \"emergency_number\", \"emergency_relationship\",\n",
        "                    \"office\", \"office_country\", \"office_city\", \"office_street\", \"office_street_number\"]\n",
        "\n",
        "# Reorder the columns\n",
        "df_employees_ordered = df_employees_renamed[new_column_order]\n",
        "\n",
        "# Take a look at the result\n",
        "df_employees_ordered.head()"
      ],
      "execution_count": 59,
      "outputs": [
        {
          "output_type": "execute_result",
          "data": {
            "text/html": [
              "<div>\n",
              "<style scoped>\n",
              "    .dataframe tbody tr th:only-of-type {\n",
              "        vertical-align: middle;\n",
              "    }\n",
              "\n",
              "    .dataframe tbody tr th {\n",
              "        vertical-align: top;\n",
              "    }\n",
              "\n",
              "    .dataframe thead th {\n",
              "        text-align: right;\n",
              "    }\n",
              "</style>\n",
              "<table border=\"1\" class=\"dataframe\">\n",
              "  <thead>\n",
              "    <tr style=\"text-align: right;\">\n",
              "      <th></th>\n",
              "      <th>id</th>\n",
              "      <th>employee_last_name</th>\n",
              "      <th>employee_first_name</th>\n",
              "      <th>title</th>\n",
              "      <th>team</th>\n",
              "      <th>monthly_salary</th>\n",
              "      <th>country</th>\n",
              "      <th>city</th>\n",
              "      <th>street</th>\n",
              "      <th>street_number</th>\n",
              "      <th>emergency_contact</th>\n",
              "      <th>emergency_number</th>\n",
              "      <th>emergency_relationship</th>\n",
              "      <th>office</th>\n",
              "      <th>office_country</th>\n",
              "      <th>office_city</th>\n",
              "      <th>office_street</th>\n",
              "      <th>office_street_number</th>\n",
              "    </tr>\n",
              "  </thead>\n",
              "  <tbody>\n",
              "    <tr>\n",
              "      <th>0</th>\n",
              "      <td>A2R5H9</td>\n",
              "      <td>Hunman</td>\n",
              "      <td>Jax</td>\n",
              "      <td>CEO</td>\n",
              "      <td>Leadership</td>\n",
              "      <td>$4500</td>\n",
              "      <td>BE</td>\n",
              "      <td>Leuven</td>\n",
              "      <td>Grote Markt</td>\n",
              "      <td>9</td>\n",
              "      <td>NaN</td>\n",
              "      <td>NaN</td>\n",
              "      <td>NaN</td>\n",
              "      <td>Leuven Office</td>\n",
              "      <td>BE</td>\n",
              "      <td>Leuven</td>\n",
              "      <td>Martelarenlaan</td>\n",
              "      <td>38.0</td>\n",
              "    </tr>\n",
              "    <tr>\n",
              "      <th>1</th>\n",
              "      <td>H8K0L6</td>\n",
              "      <td>Siff</td>\n",
              "      <td>Tara</td>\n",
              "      <td>CFO</td>\n",
              "      <td>Leadership</td>\n",
              "      <td>$4500</td>\n",
              "      <td>GB</td>\n",
              "      <td>London</td>\n",
              "      <td>Baker Street</td>\n",
              "      <td>221</td>\n",
              "      <td>Wendy de Matteo</td>\n",
              "      <td>+44-020-5554-333</td>\n",
              "      <td>Sister</td>\n",
              "      <td>WeWork Office</td>\n",
              "      <td>GB</td>\n",
              "      <td>London</td>\n",
              "      <td>Old Street</td>\n",
              "      <td>207.0</td>\n",
              "    </tr>\n",
              "    <tr>\n",
              "      <th>2</th>\n",
              "      <td>G4R7V0</td>\n",
              "      <td>Sagal</td>\n",
              "      <td>Gemma</td>\n",
              "      <td>Business Developer</td>\n",
              "      <td>Sales</td>\n",
              "      <td>$3000</td>\n",
              "      <td>US</td>\n",
              "      <td>New-York</td>\n",
              "      <td>Perry Street</td>\n",
              "      <td>66</td>\n",
              "      <td>John Newmark</td>\n",
              "      <td>+1-202-555-194</td>\n",
              "      <td>Husband</td>\n",
              "      <td>NaN</td>\n",
              "      <td>NaN</td>\n",
              "      <td>NaN</td>\n",
              "      <td>NaN</td>\n",
              "      <td>NaN</td>\n",
              "    </tr>\n",
              "    <tr>\n",
              "      <th>3</th>\n",
              "      <td>M1Z7U9</td>\n",
              "      <td>Coates</td>\n",
              "      <td>Tig</td>\n",
              "      <td>Office Manager</td>\n",
              "      <td>People Operations</td>\n",
              "      <td>$2000</td>\n",
              "      <td>FR</td>\n",
              "      <td>Paris</td>\n",
              "      <td>Rue de l'Université</td>\n",
              "      <td>7</td>\n",
              "      <td>Venus Noone</td>\n",
              "      <td>+1-202-555-0130</td>\n",
              "      <td>Wife</td>\n",
              "      <td>NaN</td>\n",
              "      <td>NaN</td>\n",
              "      <td>NaN</td>\n",
              "      <td>NaN</td>\n",
              "      <td>NaN</td>\n",
              "    </tr>\n",
              "  </tbody>\n",
              "</table>\n",
              "</div>"
            ],
            "text/plain": [
              "       id employee_last_name  ...   office_street office_street_number\n",
              "0  A2R5H9             Hunman  ...  Martelarenlaan                 38.0\n",
              "1  H8K0L6               Siff  ...      Old Street                207.0\n",
              "2  G4R7V0              Sagal  ...             NaN                  NaN\n",
              "3  M1Z7U9             Coates  ...             NaN                  NaN\n",
              "\n",
              "[4 rows x 18 columns]"
            ]
          },
          "metadata": {},
          "execution_count": 59
        }
      ]
    },
    {
      "metadata": {
        "dc": {
          "key": "47"
        },
        "deletable": false,
        "editable": false,
        "run_control": {
          "frozen": true
        },
        "tags": [
          "context"
        ],
        "id": "IdSTd5v7X5B7"
      },
      "cell_type": "markdown",
      "source": [
        "## 7. The last minute request\n",
        "<p>Last touches! You were ready to let People Ops know that the DataFrame was ready, but the department head just went over to your desk after lunch, asking about some last-minute requirements.</p>\n",
        "<p>Let's polish the DataFrame before exporting the data, sending it over to People Ops, and deploying the pipeline:</p>\n",
        "<ul>\n",
        "<li>All street numbers should be integers</li>\n",
        "<li>The index should be the actual employee ID rather than the row number</li>\n",
        "<li>If the value for office is <code>NaN</code> then the employee is remote: add a column named \"status\", right after <code>monthly_salary</code> indicating whether the employee is \"On-site\" or \"Remote.\"</li>\n",
        "</ul>"
      ]
    },
    {
      "metadata": {
        "dc": {
          "key": "47"
        },
        "tags": [
          "sample_code"
        ],
        "trusted": false,
        "collapsed": true,
        "colab": {
          "base_uri": "https://localhost:8080/",
          "height": 296
        },
        "id": "vQ9iiKDFX5B7",
        "outputId": "aaba8fae-4245-424b-da4a-2c8a805ff975"
      },
      "cell_type": "code",
      "source": [
        "import numpy as np\n",
        "# Reset the index and drop the column\n",
        "df_employees_final = df_employees_ordered.set_index('id')\n",
        "\n",
        "status_list = []\n",
        "\n",
        "# Loop through the row values and append to status_list accordingly\n",
        "for key, values in enumerate(df_employees_final[\"office\"]):\n",
        "  if type(values) != str and np.isnan(values):\n",
        "    status_list.append(\"Remote\")\n",
        "  else:\n",
        "    status_list.append(\"On-site\")\n",
        "\n",
        "# Insert status_list as a new column\n",
        "df_employees_final.insert(5, \"status\", status_list)\n",
        "\n",
        "# Take a look at the first rows of the DataFrame\n",
        "df_employees_final.head()"
      ],
      "execution_count": 99,
      "outputs": [
        {
          "output_type": "execute_result",
          "data": {
            "text/html": [
              "<div>\n",
              "<style scoped>\n",
              "    .dataframe tbody tr th:only-of-type {\n",
              "        vertical-align: middle;\n",
              "    }\n",
              "\n",
              "    .dataframe tbody tr th {\n",
              "        vertical-align: top;\n",
              "    }\n",
              "\n",
              "    .dataframe thead th {\n",
              "        text-align: right;\n",
              "    }\n",
              "</style>\n",
              "<table border=\"1\" class=\"dataframe\">\n",
              "  <thead>\n",
              "    <tr style=\"text-align: right;\">\n",
              "      <th></th>\n",
              "      <th>employee_last_name</th>\n",
              "      <th>employee_first_name</th>\n",
              "      <th>title</th>\n",
              "      <th>team</th>\n",
              "      <th>monthly_salary</th>\n",
              "      <th>status</th>\n",
              "      <th>country</th>\n",
              "      <th>city</th>\n",
              "      <th>street</th>\n",
              "      <th>street_number</th>\n",
              "      <th>emergency_contact</th>\n",
              "      <th>emergency_number</th>\n",
              "      <th>emergency_relationship</th>\n",
              "      <th>office</th>\n",
              "      <th>office_country</th>\n",
              "      <th>office_city</th>\n",
              "      <th>office_street</th>\n",
              "      <th>office_street_number</th>\n",
              "    </tr>\n",
              "    <tr>\n",
              "      <th>id</th>\n",
              "      <th></th>\n",
              "      <th></th>\n",
              "      <th></th>\n",
              "      <th></th>\n",
              "      <th></th>\n",
              "      <th></th>\n",
              "      <th></th>\n",
              "      <th></th>\n",
              "      <th></th>\n",
              "      <th></th>\n",
              "      <th></th>\n",
              "      <th></th>\n",
              "      <th></th>\n",
              "      <th></th>\n",
              "      <th></th>\n",
              "      <th></th>\n",
              "      <th></th>\n",
              "      <th></th>\n",
              "    </tr>\n",
              "  </thead>\n",
              "  <tbody>\n",
              "    <tr>\n",
              "      <th>A2R5H9</th>\n",
              "      <td>Hunman</td>\n",
              "      <td>Jax</td>\n",
              "      <td>CEO</td>\n",
              "      <td>Leadership</td>\n",
              "      <td>$4500</td>\n",
              "      <td>On-site</td>\n",
              "      <td>BE</td>\n",
              "      <td>Leuven</td>\n",
              "      <td>Grote Markt</td>\n",
              "      <td>9</td>\n",
              "      <td>NaN</td>\n",
              "      <td>NaN</td>\n",
              "      <td>NaN</td>\n",
              "      <td>Leuven Office</td>\n",
              "      <td>BE</td>\n",
              "      <td>Leuven</td>\n",
              "      <td>Martelarenlaan</td>\n",
              "      <td>38.0</td>\n",
              "    </tr>\n",
              "    <tr>\n",
              "      <th>H8K0L6</th>\n",
              "      <td>Siff</td>\n",
              "      <td>Tara</td>\n",
              "      <td>CFO</td>\n",
              "      <td>Leadership</td>\n",
              "      <td>$4500</td>\n",
              "      <td>On-site</td>\n",
              "      <td>GB</td>\n",
              "      <td>London</td>\n",
              "      <td>Baker Street</td>\n",
              "      <td>221</td>\n",
              "      <td>Wendy de Matteo</td>\n",
              "      <td>+44-020-5554-333</td>\n",
              "      <td>Sister</td>\n",
              "      <td>WeWork Office</td>\n",
              "      <td>GB</td>\n",
              "      <td>London</td>\n",
              "      <td>Old Street</td>\n",
              "      <td>207.0</td>\n",
              "    </tr>\n",
              "    <tr>\n",
              "      <th>G4R7V0</th>\n",
              "      <td>Sagal</td>\n",
              "      <td>Gemma</td>\n",
              "      <td>Business Developer</td>\n",
              "      <td>Sales</td>\n",
              "      <td>$3000</td>\n",
              "      <td>Remote</td>\n",
              "      <td>US</td>\n",
              "      <td>New-York</td>\n",
              "      <td>Perry Street</td>\n",
              "      <td>66</td>\n",
              "      <td>John Newmark</td>\n",
              "      <td>+1-202-555-194</td>\n",
              "      <td>Husband</td>\n",
              "      <td>NaN</td>\n",
              "      <td>NaN</td>\n",
              "      <td>NaN</td>\n",
              "      <td>NaN</td>\n",
              "      <td>NaN</td>\n",
              "    </tr>\n",
              "    <tr>\n",
              "      <th>M1Z7U9</th>\n",
              "      <td>Coates</td>\n",
              "      <td>Tig</td>\n",
              "      <td>Office Manager</td>\n",
              "      <td>People Operations</td>\n",
              "      <td>$2000</td>\n",
              "      <td>Remote</td>\n",
              "      <td>FR</td>\n",
              "      <td>Paris</td>\n",
              "      <td>Rue de l'Université</td>\n",
              "      <td>7</td>\n",
              "      <td>Venus Noone</td>\n",
              "      <td>+1-202-555-0130</td>\n",
              "      <td>Wife</td>\n",
              "      <td>NaN</td>\n",
              "      <td>NaN</td>\n",
              "      <td>NaN</td>\n",
              "      <td>NaN</td>\n",
              "      <td>NaN</td>\n",
              "    </tr>\n",
              "  </tbody>\n",
              "</table>\n",
              "</div>"
            ],
            "text/plain": [
              "       employee_last_name  ... office_street_number\n",
              "id                         ...                     \n",
              "A2R5H9             Hunman  ...                 38.0\n",
              "H8K0L6               Siff  ...                207.0\n",
              "G4R7V0              Sagal  ...                  NaN\n",
              "M1Z7U9             Coates  ...                  NaN\n",
              "\n",
              "[4 rows x 18 columns]"
            ]
          },
          "metadata": {},
          "execution_count": 99
        }
      ]
    },
    {
      "metadata": {
        "dc": {
          "key": "54"
        },
        "deletable": false,
        "editable": false,
        "run_control": {
          "frozen": true
        },
        "tags": [
          "context"
        ],
        "id": "y303zV21X5B7"
      },
      "cell_type": "markdown",
      "source": [
        "## 8. Saving your work\n",
        "<p>Good job! You now have everything People Ops requested. The different people responsible for these various files can currently keep working on these files if they want. As long as they save it in the <code>datasets</code> folder, People Ops will have to execute this unique script to obtain just one file from the ones scattered across different teams.</p>\n",
        "<p>You bumped into the Head of People Ops and shared a few caveats and areas of improvement. She booked a meeting with you so you can explain:</p>\n",
        "<ul>\n",
        "<li>How the current structure isn't robust to role changes: what if an existing employee takes on a new role?</li>\n",
        "<li>How the current structure doesn't fit best practices in terms of database schema:<ul>\n",
        "<li>having data all over the place like it's the case right now is a no-go</li>\n",
        "<li>but gathering everything in a single table is inefficient: you have to query all information even if all you want is a phone number</li>\n",
        "<li>there should be a single SQL database for employee data, with several tables that can be joined</li>\n",
        "<li>views can be built on top of the database to simplify non-data practitioners access.</li></ul></li>\n",
        "</ul>\n",
        "<p>In any case, you still need to show up with what was requested - so let's export your DataFrame to a CSV file.</p>"
      ]
    },
    {
      "metadata": {
        "dc": {
          "key": "54"
        },
        "tags": [
          "sample_code"
        ],
        "trusted": false,
        "collapsed": true,
        "id": "cWdDaqWuX5B7"
      },
      "cell_type": "code",
      "source": [
        "# Write to CSV\n",
        "df_employees_final.to_csv('export_employees_final.csv')"
      ],
      "execution_count": 101,
      "outputs": []
    },
    {
      "cell_type": "code",
      "source": [
        ""
      ],
      "metadata": {
        "id": "Ular50mlImWy"
      },
      "execution_count": null,
      "outputs": []
    }
  ],
  "metadata": {
    "kernelspec": {
      "name": "python3",
      "display_name": "Python 3",
      "language": "python"
    },
    "language_info": {
      "name": "python",
      "version": "3.6.7",
      "mimetype": "text/x-python",
      "codemirror_mode": {
        "name": "ipython",
        "version": 3
      },
      "pygments_lexer": "ipython3",
      "nbconvert_exporter": "python",
      "file_extension": ".py"
    },
    "colab": {
      "name": "notebook.ipynb",
      "provenance": [],
      "include_colab_link": true
    }
  },
  "nbformat": 4,
  "nbformat_minor": 0
}